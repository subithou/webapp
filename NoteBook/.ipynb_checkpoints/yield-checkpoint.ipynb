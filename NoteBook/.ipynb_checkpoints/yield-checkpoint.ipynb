{
 "cells": [
  {
   "cell_type": "code",
   "execution_count": 35,
   "id": "bc908c0f",
   "metadata": {},
   "outputs": [],
   "source": [
    "# cwd = os.getcwd()\n",
    "# df_2013 = pd.read_pickle(os.path.join(cwd,'data','df_2013_features.df'))\n",
    "# df_2014 = pd.read_pickle(os.path.join(cwd,'data','df_2014_features.df'))\n",
    "import pandas as pd\n",
    "df_all = pd.read_csv(r\"D:\\SREE\\Project\\yield_prediction\\data\\Crop_yield_cnn.csv\")"
   ]
  },
  {
   "cell_type": "code",
   "execution_count": 36,
   "id": "3e3dc203",
   "metadata": {},
   "outputs": [],
   "source": [
    "print(df_all.head())"
   ]
  },
  {
   "cell_type": "code",
   "execution_count": 37,
   "id": "4f68800c",
   "metadata": {},
   "outputs": [],
   "source": [
    "from sklearn.model_selection import train_test_split\n",
    "y = df_all['yield']\n",
    "X = df_all.drop('yield',axis=1)\n",
    "X_train, X_test, y_train, y_test = train_test_split(X, y, test_size=0.3, random_state=42)"
   ]
  },
  {
   "cell_type": "code",
   "execution_count": 38,
   "id": "e6a4e0ef",
   "metadata": {},
   "outputs": [],
   "source": [
    "print(y)"
   ]
  },
  {
   "cell_type": "code",
   "execution_count": 39,
   "id": "4524f2f8",
   "metadata": {},
   "outputs": [],
   "source": [
    "from sklearn import preprocessing\n",
    "columns_to_scale = df_all.columns.tolist()\n",
    "columns_to_scale = [x for x in columns_to_scale if x != 'yield']\n",
    "print(columns_to_scale)\n",
    "\n",
    "std_scaler = preprocessing.StandardScaler().fit(X_train[columns_to_scale])\n",
    "minmax_scaler = preprocessing.MinMaxScaler().fit(X_train[columns_to_scale])\n",
    "\n",
    "X_train[columns_to_scale] = std_scaler.transform(X_train[columns_to_scale])\n",
    "# X_train[columns_to_scale] = minmax_scaler.transform(X_train[columns_to_scale])"
   ]
  },
  {
   "cell_type": "code",
   "execution_count": 40,
   "id": "782bd2a3",
   "metadata": {},
   "outputs": [],
   "source": [
    "# Don't forget to apply the scaler also to the test set.\n",
    "X_test[columns_to_scale] = std_scaler.transform(X_test[columns_to_scale])\n",
    "# X_test[columns_to_scale] = minmax_scaler.transform(X_test[columns_to_scale])\n"
   ]
  },
  {
   "cell_type": "code",
   "execution_count": 41,
   "id": "94829928",
   "metadata": {},
   "outputs": [],
   "source": [
    "# Use cros validation. Set 'k' and the scoring function. If scoring function is not set, \n",
    "# cross_val_score will use the default scoring for the respective estimator. To make sure \n",
    "# I compare all estimators on the same scale, I set the scoring function explicitly.\n",
    "from sklearn.model_selection import cross_val_score\n",
    "cv_k = 5\n",
    "cv_scoring = 'neg_mean_squared_error'\n",
    "cv_scoring = 'r2'"
   ]
  },
  {
   "cell_type": "code",
   "execution_count": 42,
   "id": "ee6fff7c",
   "metadata": {},
   "outputs": [],
   "source": [
    "from sklearn.model_selection import KFold\n",
    "kf = KFold(n_splits=cv_k, shuffle=True)"
   ]
  },
  {
   "cell_type": "code",
   "execution_count": 43,
   "id": "e50d8302",
   "metadata": {},
   "outputs": [],
   "source": [
    "from sklearn import linear_model\n",
    "from sklearn.preprocessing import PolynomialFeatures\n",
    "from sklearn.ensemble import RandomForestRegressor\n",
    "from sklearn.ensemble import GradientBoostingRegressor\n",
    "from sklearn import neighbors\n",
    "from sklearn.svm import SVR"
   ]
  },
  {
   "cell_type": "code",
   "execution_count": 44,
   "id": "59e54552",
   "metadata": {},
   "outputs": [],
   "source": [
    "# Linear regression\n",
    "now = time.time()\n",
    "est = linear_model.LinearRegression()\n",
    "scores = cross_val_score(est, X_train, y_train, cv=kf, scoring=cv_scoring)\n",
    "print(\"Accuracy: %0.2f (+/- %0.2f)\" % (scores.mean(), scores.std() * 2))\n",
    "after = time.time()\n",
    "print('Exec. time: {:5.2f} s'.format(after-now))"
   ]
  },
  {
   "cell_type": "code",
   "execution_count": null,
   "id": "18b27674",
   "metadata": {},
   "outputs": [],
   "source": [
    "# Linear regression with L2 regularization\n",
    "now = time.time()\n",
    "est = linear_model.Ridge(alpha = 1.0)\n",
    "scores = cross_val_score(est, X_train, y_train, cv=kf, scoring=cv_scoring)\n",
    "print(\"Accuracy: %0.2f (+/- %0.2f)\" % (scores.mean(), scores.std() * 2))\n",
    "after = time.time()\n",
    "print('Exec. time: {:5.2f} s'.format(after-now))"
   ]
  },
  {
   "cell_type": "code",
   "execution_count": null,
   "id": "06f08f43",
   "metadata": {},
   "outputs": [],
   "source": [
    "# Linear regression with L2 regularization\n",
    "now = time.time()\n",
    "est = linear_model.Ridge(alpha = 1.0)\n",
    "scores = cross_val_score(est, X_train, y_train, cv=kf, scoring=cv_scoring)\n",
    "print(\"Accuracy: %0.2f (+/- %0.2f)\" % (scores.mean(), scores.std() * 2))\n",
    "after = time.time()\n",
    "print('Exec. time: {:5.2f} s'.format(after-now))"
   ]
  },
  {
   "cell_type": "code",
   "execution_count": null,
   "id": "b9a4155d",
   "metadata": {},
   "outputs": [],
   "source": [
    "# Polynomial regression\n",
    "now = time.time()\n",
    "poly = PolynomialFeatures(degree=2)\n",
    "X_train_poly = poly.fit_transform(X_train)\n",
    "est = linear_model.LinearRegression()\n",
    "scores = cross_val_score(est, X_train_poly, y_train, cv=kf, scoring=cv_scoring)\n",
    "print(\"Accuracy: %0.2f (+/- %0.2f)\" % (scores.mean(), scores.std() * 2))\n",
    "after = time.time()\n",
    "print('Exec. time: {:5.2f} s'.format(after-now))"
   ]
  },
  {
   "cell_type": "code",
   "execution_count": null,
   "id": "40390987",
   "metadata": {},
   "outputs": [],
   "source": [
    "# Polynomial regression with regularization\n",
    "now = time.time()\n",
    "poly = PolynomialFeatures(degree=2)\n",
    "X_train_poly = poly.fit_transform(X_train)\n",
    "est = linear_model.Ridge(alpha = 1.0)\n",
    "scores = cross_val_score(est, X_train_poly, y_train, cv=kf, scoring=cv_scoring)\n",
    "print(\"Accuracy: %0.2f (+/- %0.2f)\" % (scores.mean(), scores.std() * 2))\n",
    "after = time.time()\n",
    "print('Exec. time: {:5.2f} s'.format(after-now))"
   ]
  },
  {
   "cell_type": "code",
   "execution_count": null,
   "id": "027e7902",
   "metadata": {},
   "outputs": [],
   "source": [
    "# Random forest regression\n",
    "now = time.time()\n",
    "est = RandomForestRegressor(n_estimators=10, n_jobs=-1)\n",
    "scores = cross_val_score(est, X_train, y_train, cv=kf, scoring=cv_scoring)\n",
    "print(\"Accuracy: %0.4f (+/- %0.4f)\" % (scores.mean(), scores.std() * 2))\n",
    "after = time.time()\n",
    "print('Exec. time: {:5.2f} s'.format(after-now))\n"
   ]
  },
  {
   "cell_type": "code",
   "execution_count": null,
   "id": "3e09fd13",
   "metadata": {},
   "outputs": [],
   "source": [
    "# Gradient boosted regression\n",
    "now = time.time()\n",
    "est = GradientBoostingRegressor(n_estimators=100, learning_rate=0.1,\n",
    "                                max_depth=0.3, random_state=0, loss='ls')\n",
    "scores = cross_val_score(est, X_train, y_train, cv=kf, scoring=cv_scoring)\n",
    "print(\"Accuracy: %0.4f (+/- %0.4f)\" % (scores.mean(), scores.std() * 2))\n",
    "after = time.time()\n",
    "print('Exec. time: {:5.2f} s'.format(after-now))"
   ]
  }
 ],
 "metadata": {
  "kernelspec": {
   "display_name": "Python 3 (ipykernel)",
   "language": "python",
   "name": "python3"
  },
  "language_info": {
   "codemirror_mode": {
    "name": "ipython",
    "version": 3
   },
   "file_extension": ".py",
   "mimetype": "text/x-python",
   "name": "python",
   "nbconvert_exporter": "python",
   "pygments_lexer": "ipython3",
   "version": "3.10.11"
  }
 },
 "nbformat": 4,
 "nbformat_minor": 5
}
